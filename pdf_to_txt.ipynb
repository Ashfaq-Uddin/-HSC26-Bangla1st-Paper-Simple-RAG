{
 "cells": [
  {
   "cell_type": "code",
   "execution_count": 1,
   "id": "526710cd",
   "metadata": {},
   "outputs": [
    {
     "name": "stderr",
     "output_type": "stream",
     "text": [
      "d:\\anaconda3\\envs\\llms\\Lib\\site-packages\\pypdf\\_crypt_providers\\_cryptography.py:32: CryptographyDeprecationWarning: ARC4 has been moved to cryptography.hazmat.decrepit.ciphers.algorithms.ARC4 and will be removed from cryptography.hazmat.primitives.ciphers.algorithms in 48.0.0.\n",
      "  from cryptography.hazmat.primitives.ciphers.algorithms import AES, ARC4\n"
     ]
    }
   ],
   "source": [
    "import pytesseract\n",
    "from pdf2image import convert_from_path\n",
    "import camelot\n",
    "import os"
   ]
  },
  {
   "cell_type": "code",
   "execution_count": null,
   "id": "75b31b84",
   "metadata": {},
   "outputs": [],
   "source": [
    "# === File paths ===\n",
    "pdf_path = \"HSC26-Bangla1st-Paper.pdf\"      # Input PDF\n",
    "output_txt = \"HSC26_Bangla1st_OCR_With_Tables.txt\"  # Output text\n",
    "table_dir = \"tables\"                        # Save table CSVs here\n",
    "os.makedirs(table_dir, exist_ok=True)"
   ]
  },
  {
   "cell_type": "code",
   "execution_count": 3,
   "id": "416e4d05",
   "metadata": {},
   "outputs": [],
   "source": [
    "poppler_path = r\"C:\\poppler-24.08.0\\Library\\bin\"\n",
    "pytesseract.pytesseract.tesseract_cmd = r\"C:\\Program Files\\Tesseract-OCR\\tesseract.exe\""
   ]
  },
  {
   "cell_type": "code",
   "execution_count": 4,
   "id": "304baf83",
   "metadata": {},
   "outputs": [
    {
     "name": "stdout",
     "output_type": "stream",
     "text": [
      "🔍 Starting OCR text extraction...\n",
      "[1/49] Processing page...\n",
      "[2/49] Processing page...\n",
      "[3/49] Processing page...\n",
      "[4/49] Processing page...\n",
      "[5/49] Processing page...\n",
      "[6/49] Processing page...\n",
      "[7/49] Processing page...\n",
      "[8/49] Processing page...\n",
      "[9/49] Processing page...\n",
      "[10/49] Processing page...\n",
      "[11/49] Processing page...\n",
      "[12/49] Processing page...\n",
      "[13/49] Processing page...\n",
      "[14/49] Processing page...\n",
      "[15/49] Processing page...\n",
      "[16/49] Processing page...\n",
      "[17/49] Processing page...\n",
      "[18/49] Processing page...\n",
      "[19/49] Processing page...\n",
      "[20/49] Processing page...\n",
      "[21/49] Processing page...\n",
      "[22/49] Processing page...\n",
      "[23/49] Processing page...\n",
      "[24/49] Processing page...\n",
      "[25/49] Processing page...\n",
      "[26/49] Processing page...\n",
      "[27/49] Processing page...\n",
      "[28/49] Processing page...\n",
      "[29/49] Processing page...\n",
      "[30/49] Processing page...\n",
      "[31/49] Processing page...\n",
      "[32/49] Processing page...\n",
      "[33/49] Processing page...\n",
      "[34/49] Processing page...\n",
      "[35/49] Processing page...\n",
      "[36/49] Processing page...\n",
      "[37/49] Processing page...\n",
      "[38/49] Processing page...\n",
      "[39/49] Processing page...\n",
      "[40/49] Processing page...\n",
      "[41/49] Processing page...\n",
      "[42/49] Processing page...\n",
      "[43/49] Processing page...\n",
      "[44/49] Processing page...\n",
      "[45/49] Processing page...\n",
      "[46/49] Processing page...\n",
      "[47/49] Processing page...\n",
      "[48/49] Processing page...\n",
      "[49/49] Processing page...\n"
     ]
    }
   ],
   "source": [
    "# === OCR Text Extraction ===\n",
    "print(\"🔍 Starting OCR text extraction...\")\n",
    "pages = convert_from_path(pdf_path, dpi=300, poppler_path=poppler_path)\n",
    "\n",
    "full_text = \"\"\n",
    "for i, page in enumerate(pages):\n",
    "    print(f\"[{i+1}/{len(pages)}] Processing page...\")\n",
    "    text = pytesseract.image_to_string(page, lang='ben')\n",
    "    full_text += f\"\\n\\n--- Page {i+1} ---\\n{text}\""
   ]
  },
  {
   "cell_type": "code",
   "execution_count": 5,
   "id": "c9539073",
   "metadata": {},
   "outputs": [
    {
     "name": "stdout",
     "output_type": "stream",
     "text": [
      "📄 Extracting tables using Camelot...\n",
      "✅ Found and saved 14 tables to CSVs.\n"
     ]
    }
   ],
   "source": [
    "# === Table Extraction using Camelot ===\n",
    "print(\"📄 Extracting tables using Camelot...\")\n",
    "try:\n",
    "    tables = camelot.read_pdf(pdf_path, pages=\"all\", flavor=\"lattice\")\n",
    "    table_text = \"\"\n",
    "    for i, table in enumerate(tables):\n",
    "        table_path = os.path.join(table_dir, f\"table_{i+1}.csv\")\n",
    "        table.to_csv(table_path)\n",
    "        table_content = table.df.to_string(index=False, header=False)\n",
    "        table_text += f\"\\n\\n--- Table {i+1} ---\\n{table_content}\"\n",
    "    print(f\"✅ Found and saved {tables.n} tables to CSVs.\")\n",
    "except Exception as e:\n",
    "    table_text = \"\\n\\n(No tables found or error extracting tables.)\"\n",
    "    print(f\" Camelot error: {e}\")"
   ]
  },
  {
   "cell_type": "code",
   "execution_count": 6,
   "id": "dde6137f",
   "metadata": {},
   "outputs": [
    {
     "name": "stdout",
     "output_type": "stream",
     "text": [
      "\n",
      " All done. Saved full content to: HSC26_Bangla1st_OCR_With_Tables_2.txt\n"
     ]
    }
   ],
   "source": [
    "# === Write OCR text and tables to output file ===\n",
    "with open(output_txt, \"w\", encoding=\"utf-8\") as f:\n",
    "    f.write(full_text)\n",
    "    f.write(\"\\n\\n========== Tables ==========\\n\")\n",
    "    f.write(table_text)\n",
    "\n",
    "print(f\"\\n All done. Saved full content to: {output_txt}\")"
   ]
  }
 ],
 "metadata": {
  "kernelspec": {
   "display_name": "llms",
   "language": "python",
   "name": "python3"
  },
  "language_info": {
   "codemirror_mode": {
    "name": "ipython",
    "version": 3
   },
   "file_extension": ".py",
   "mimetype": "text/x-python",
   "name": "python",
   "nbconvert_exporter": "python",
   "pygments_lexer": "ipython3",
   "version": "3.11.13"
  }
 },
 "nbformat": 4,
 "nbformat_minor": 5
}
